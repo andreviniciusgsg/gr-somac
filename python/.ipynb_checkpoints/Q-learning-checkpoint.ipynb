{
 "cells": [
  {
   "cell_type": "code",
   "execution_count": 141,
   "metadata": {},
   "outputs": [],
   "source": [
    "import numpy as np"
   ]
  },
  {
   "cell_type": "code",
   "execution_count": 142,
   "metadata": {},
   "outputs": [],
   "source": [
    "class QLearning:\n",
    "\n",
    "    def __init__(self):\n",
    "        self.q_table    = np.zeros((2, 2))\n",
    "        self.discount   = 0.8\n",
    "        self.learn_rate = 0.2\n",
    "        \n",
    "    def decision(self, prot):\n",
    "        self.state = prot\n",
    "        \n",
    "        if self.q_table[self.state, 0] == self.q_table[self.state, 1]:\n",
    "            action = np.random.randint(2)\n",
    "        else:\n",
    "            action = np.argmax(self.q_table[self.state, :])\n",
    "        \n",
    "        self.action = action\n",
    "        self.state_new = action\n",
    "        \n",
    "        return action\n",
    "    \n",
    "    def update_qtable(self, reward):\n",
    "        self.q_table[self.state, self.action] = (1. - self.learn_rate) * self.q_table[self.state, self.action] + \\\n",
    "                        self.learn_rate * (reward + self.discount * np.max(self.q_table[self.state_new, :]))\n",
    "        \n",
    "        return"
   ]
  },
  {
   "cell_type": "code",
   "execution_count": 143,
   "metadata": {},
   "outputs": [],
   "source": [
    "filename = \"/home/andre/UFMG/SOMAC-ML/data/23092018/round2/somac/backlog_file.npy\"\n",
    "data = np.load(filename, encoding = \"latin1\").item()"
   ]
  },
  {
   "cell_type": "code",
   "execution_count": 144,
   "metadata": {},
   "outputs": [
    {
     "name": "stdout",
     "output_type": "stream",
     "text": [
      "t = 0,\t\tdecision = 0\n",
      "t = 1,\t\tdecision = 0\n",
      "t = 2,\t\tdecision = 0\n",
      "t = 3,\t\tdecision = 0\n",
      "t = 4,\t\tdecision = 0\n",
      "t = 5,\t\tdecision = 0\n",
      "t = 6,\t\tdecision = 0\n",
      "t = 7,\t\tdecision = 0\n",
      "t = 8,\t\tdecision = 0\n",
      "t = 9,\t\tdecision = 0\n",
      "t = 10,\t\tdecision = 0\n",
      "t = 11,\t\tdecision = 0\n",
      "t = 12,\t\tdecision = 0\n",
      "t = 13,\t\tdecision = 0\n",
      "t = 14,\t\tdecision = 0\n",
      "t = 15,\t\tdecision = 0\n",
      "t = 16,\t\tdecision = 0\n",
      "t = 17,\t\tdecision = 0\n",
      "t = 18,\t\tdecision = 1\n",
      "t = 19,\t\tdecision = 1\n",
      "t = 20,\t\tdecision = 1\n",
      "t = 21,\t\tdecision = 1\n",
      "t = 22,\t\tdecision = 1\n",
      "t = 23,\t\tdecision = 1\n",
      "t = 24,\t\tdecision = 1\n",
      "t = 25,\t\tdecision = 1\n",
      "t = 26,\t\tdecision = 1\n",
      "t = 27,\t\tdecision = 1\n",
      "t = 28,\t\tdecision = 1\n",
      "t = 29,\t\tdecision = 1\n",
      "t = 30,\t\tdecision = 1\n",
      "t = 31,\t\tdecision = 1\n",
      "t = 32,\t\tdecision = 1\n",
      "t = 33,\t\tdecision = 1\n",
      "t = 34,\t\tdecision = 1\n",
      "t = 35,\t\tdecision = 1\n",
      "t = 36,\t\tdecision = 1\n",
      "t = 37,\t\tdecision = 1\n",
      "t = 38,\t\tdecision = 1\n",
      "t = 39,\t\tdecision = 1\n",
      "t = 40,\t\tdecision = 1\n",
      "t = 41,\t\tdecision = 1\n",
      "t = 42,\t\tdecision = 1\n",
      "t = 43,\t\tdecision = 1\n",
      "t = 44,\t\tdecision = 1\n",
      "t = 45,\t\tdecision = 1\n",
      "t = 46,\t\tdecision = 1\n",
      "t = 47,\t\tdecision = 1\n",
      "t = 48,\t\tdecision = 1\n",
      "t = 49,\t\tdecision = 1\n",
      "t = 50,\t\tdecision = 1\n",
      "t = 51,\t\tdecision = 1\n",
      "t = 52,\t\tdecision = 1\n",
      "t = 53,\t\tdecision = 1\n",
      "t = 54,\t\tdecision = 1\n",
      "t = 55,\t\tdecision = 1\n",
      "t = 56,\t\tdecision = 1\n",
      "t = 57,\t\tdecision = 1\n",
      "t = 58,\t\tdecision = 1\n",
      "t = 59,\t\tdecision = 1\n",
      "t = 60,\t\tdecision = 1\n",
      "t = 61,\t\tdecision = 1\n",
      "t = 62,\t\tdecision = 1\n"
     ]
    }
   ],
   "source": [
    "ql = QLearning()\n",
    "\n",
    "reward = 0\n",
    "tsteps = [t for t in range(len(data) - 1)]\n",
    "\n",
    "for t in data:\n",
    "    prot = data[t][\"prot\"]\n",
    "    decision = ql.decision(prot)\n",
    "    \n",
    "    print(\"t = {},\\t\\tdecision = {}\".format(t, ql.decision(prot)))\n",
    "    \n",
    "    if prot == decision:\n",
    "        reward = 1. * (data[t][\"metrics\"][0, 0] / (1. + data[t][\"metrics\"][4, 0]) - reward)\n",
    "    else:\n",
    "        reward = 2. * (data[t][\"metrics\"][0, 0] / (1. + data[t][\"metrics\"][4, 0]) - reward)\n",
    "    thr = data[t][\"metrics\"][0, 1]\n",
    "    \n",
    "    ql.update_qtable(reward)"
   ]
  },
  {
   "cell_type": "code",
   "execution_count": 145,
   "metadata": {},
   "outputs": [
    {
     "data": {
      "text/plain": [
       "array([[ 0.03425226,  0.        ],\n",
       "       [-0.03157241,  0.07802557]])"
      ]
     },
     "execution_count": 145,
     "metadata": {},
     "output_type": "execute_result"
    }
   ],
   "source": [
    "ql.q_table"
   ]
  },
  {
   "cell_type": "code",
   "execution_count": null,
   "metadata": {},
   "outputs": [],
   "source": []
  }
 ],
 "metadata": {
  "kernelspec": {
   "display_name": "Python 3",
   "language": "python",
   "name": "python3"
  },
  "language_info": {
   "codemirror_mode": {
    "name": "ipython",
    "version": 3
   },
   "file_extension": ".py",
   "mimetype": "text/x-python",
   "name": "python",
   "nbconvert_exporter": "python",
   "pygments_lexer": "ipython3",
   "version": "3.6.5"
  }
 },
 "nbformat": 4,
 "nbformat_minor": 2
}
