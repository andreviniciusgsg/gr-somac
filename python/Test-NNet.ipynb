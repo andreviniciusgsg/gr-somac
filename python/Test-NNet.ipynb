{
 "cells": [
  {
   "cell_type": "code",
   "execution_count": 1,
   "metadata": {},
   "outputs": [],
   "source": [
    "from EsembleNNet import EnsembleNNetSOMAC\n",
    "import numpy as np"
   ]
  },
  {
   "cell_type": "code",
   "execution_count": 2,
   "metadata": {},
   "outputs": [],
   "source": [
    "train_file = \"/Users/andre.gomes/Temp/SOMAC-ML/data/14092018/somac/training_file.npy\"\n",
    "test_file = \"/Users/andre.gomes/Temp/SOMAC-ML/data/14092018/somac/backlog_file.npy\""
   ]
  },
  {
   "cell_type": "code",
   "execution_count": 3,
   "metadata": {},
   "outputs": [],
   "source": [
    "test_data = np.load(test_file, encoding = \"latin1\").item()"
   ]
  },
  {
   "cell_type": "code",
   "execution_count": 4,
   "metadata": {},
   "outputs": [],
   "source": [
    "nnet = EnsembleNNetSOMAC()\n",
    "nnet.train(train_file)"
   ]
  },
  {
   "cell_type": "code",
   "execution_count": 5,
   "metadata": {},
   "outputs": [
    {
     "name": "stdout",
     "output_type": "stream",
     "text": [
      "Confidence Interval = -1.9842169515086827, 1.9842169515086827\n",
      "Confidence Interval = -1.9842169515086827, 1.9842169515086827\n",
      "Prot: 0, y = 0.16666649281978607\n",
      "y_hat_CSMA = -15.94, y_hat_TDMA = -5.82\n",
      "Evaluation: v_csma = -15.94, v_tdma = -5.82\n",
      "---\n",
      "Confidence Interval = -1.9842169515086827, 1.9842169515086827\n",
      "Confidence Interval = -1.9842169515086827, 1.9842169515086827\n",
      "Prot: 0, y = 0.2758620008826256\n",
      "y_hat_CSMA = -21.44, y_hat_TDMA = -2.72\n",
      "Evaluation: v_csma = -18.49, v_tdma = 1.45\n",
      "---\n",
      "Confidence Interval = -1.9842169515086827, 1.9842169515086827\n",
      "Confidence Interval = -1.9842169515086827, 1.9842169515086827\n",
      "Prot: 0, y = 0.1189655028283596\n",
      "y_hat_CSMA = 8.57, y_hat_TDMA = 2.78\n",
      "Evaluation: v_csma = 11.59, v_tdma = 8.02\n",
      "---\n",
      "Confidence Interval = -1.9842169515086827, 1.9842169515086827\n",
      "Confidence Interval = -1.9842169515086827, 1.9842169515086827\n",
      "Prot: 0, y = 0.05000000074505806\n",
      "y_hat_CSMA = 8.64, y_hat_TDMA = 1.43\n",
      "Evaluation: v_csma = 11.58, v_tdma = 7.32\n",
      "---\n",
      "Confidence Interval = -1.9842169515086827, 1.9842169515086827\n",
      "Confidence Interval = -1.9842169515086827, 1.9842169515086827\n",
      "Prot: 0, y = 0.03333349898457527\n",
      "y_hat_CSMA = 13.76, y_hat_TDMA = 4.28\n",
      "Evaluation: v_csma = 16.6, v_tdma = 10.62\n",
      "---\n",
      "Confidence Interval = -1.9842169515086827, 1.9842169515086827\n",
      "Confidence Interval = -1.9842169515086827, 1.9842169515086827\n",
      "Prot: 0, y = 0.1333335041999817\n",
      "y_hat_CSMA = 13.67, y_hat_TDMA = 4.32\n",
      "Evaluation: v_csma = 16.4, v_tdma = 11.02\n",
      "---\n",
      "Confidence Interval = -1.9842169515086827, 1.9842169515086827\n",
      "Confidence Interval = -1.9842169515086827, 1.9842169515086827\n",
      "Prot: 0, y = 0.20000000298023224\n",
      "y_hat_CSMA = 13.35, y_hat_TDMA = 4.36\n",
      "Evaluation: v_csma = 15.98, v_tdma = 11.33\n",
      "---\n",
      "Confidence Interval = -1.9842169515086827, 1.9842169515086827\n",
      "Confidence Interval = -1.9842169515086827, 1.9842169515086827\n",
      "Prot: 0, y = 0.4166665133088827\n",
      "y_hat_CSMA = 15.43, y_hat_TDMA = 7.7\n",
      "Evaluation: v_csma = 17.98, v_tdma = 14.91\n",
      "---\n",
      "Confidence Interval = -1.9842169515086827, 1.9842169515086827\n",
      "Confidence Interval = -1.9842169515086827, 1.9842169515086827\n",
      "Prot: 0, y = 0.1333335041999817\n",
      "y_hat_CSMA = 14.02, y_hat_TDMA = 6.15\n",
      "Evaluation: v_csma = 16.49, v_tdma = 13.57\n",
      "---\n",
      "Confidence Interval = -1.9842169515086827, 1.9842169515086827\n",
      "Confidence Interval = -1.9842169515086827, 1.9842169515086827\n",
      "Prot: 0, y = 0.4735630042850971\n",
      "y_hat_CSMA = 15.39, y_hat_TDMA = 8.12\n",
      "Evaluation: v_csma = 17.79, v_tdma = 15.7\n",
      "No. of new estimators = 11\n",
      "---\n"
     ]
    }
   ],
   "source": [
    "for t in range(10):\n",
    "    nnet.decision(test_data[t])\n",
    "    print(\"---\")"
   ]
  },
  {
   "cell_type": "code",
   "execution_count": null,
   "metadata": {},
   "outputs": [],
   "source": []
  }
 ],
 "metadata": {
  "kernelspec": {
   "display_name": "Python 3",
   "language": "python",
   "name": "python3"
  },
  "language_info": {
   "codemirror_mode": {
    "name": "ipython",
    "version": 3
   },
   "file_extension": ".py",
   "mimetype": "text/x-python",
   "name": "python",
   "nbconvert_exporter": "python",
   "pygments_lexer": "ipython3",
   "version": "3.7.0"
  }
 },
 "nbformat": 4,
 "nbformat_minor": 2
}
