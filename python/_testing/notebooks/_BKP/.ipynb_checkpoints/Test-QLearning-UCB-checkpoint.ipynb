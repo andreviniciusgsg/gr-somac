{
 "cells": [
  {
   "cell_type": "code",
   "execution_count": 59,
   "metadata": {},
   "outputs": [],
   "source": [
    "import numpy as np\n",
    "import matplotlib.pyplot as plt\n",
    "import logging\n",
    "from QLearningUCB import QLearningUCB as ucb\n",
    "import pandas as pd\n",
    "import seaborn as sns\n",
    "from pathlib import Path"
   ]
  },
  {
   "cell_type": "code",
   "execution_count": 60,
   "metadata": {},
   "outputs": [],
   "source": [
    "home = str(Path.home())\n",
    "\n",
    "f_csma_list = [\n",
    "    home + \"/UFMG/SOMAC-ML/data/_BKP/29092018/csma/round2/backlog_file.npy\", # RUN\n",
    "    home + \"/UFMG/SOMAC-ML/data/10102018/round1/csma/backlog_file.npy\",      # RUN3\n",
    "    home + \"/UFMG/SOMAC-ML/data/06102018/run4/5/csma/backlog_file.npy\"       # RUN4\n",
    "]\n",
    "\n",
    "f_tdma_list = [\n",
    "    home + \"/UFMG/SOMAC-ML/data/_BKP/29092018/tdma/round2/backlog_file.npy\", # RUN\n",
    "    home + \"/UFMG/SOMAC-ML/data/10102018/round1/tdma/backlog_file.npy\",      # RUN3\n",
    "    home + \"/UFMG/SOMAC-ML/data/06102018/run4/5/tdma/backlog_file.npy\"       # RUN4\n",
    "]"
   ]
  },
  {
   "cell_type": "code",
   "execution_count": 61,
   "metadata": {},
   "outputs": [],
   "source": [
    "def calc_reward(curr, prev):\n",
    "    # Positive reward\n",
    "    if curr > 1.1 * prev and curr <= 1.2 * prev:\n",
    "        reward = 1.\n",
    "        \n",
    "    elif curr > 1.2 * prev and curr <= 1.4 * prev:\n",
    "        reward = 2.\n",
    "        \n",
    "    elif curr > 1.4 * prev and curr <= 1.6 * prev:\n",
    "        reward = 3.\n",
    "        \n",
    "    elif curr > 1.6 * prev and curr <= 1.8 * prev:\n",
    "        reward = 4.\n",
    "        \n",
    "    elif curr > 1.8 * prev and curr <= 2.0 * prev:\n",
    "        reward = 5.\n",
    "        \n",
    "    elif curr > 2.0 * prev:\n",
    "        reward = 6.\n",
    "\n",
    "    # Negative reward\n",
    "    elif prev > 1.1 * curr and prev <= 1.2 * curr:\n",
    "        reward = -1.\n",
    "\n",
    "    elif prev > 1.2 * curr and prev <= 1.4 * curr:\n",
    "        reward = -2.\n",
    "        \n",
    "    elif prev > 1.4 * curr and prev <= 1.6 * curr:\n",
    "        reward = -3.\n",
    "        \n",
    "    elif prev > 1.6 * curr and prev <= 1.8 * curr:\n",
    "        reward = -4.\n",
    "        \n",
    "    elif prev > 1.8 * curr and prev <= 2.0 * curr:\n",
    "        reward = -5.\n",
    "        \n",
    "    elif prev > 2.0 * curr:\n",
    "        reward = -6.\n",
    "\n",
    "    else:\n",
    "        reward = 0.\n",
    "\n",
    "    return reward\n",
    "\n",
    "def test(init_prot = 0, learn_rate = 0.3, discount = 0.8, dic = {}):\n",
    "    logging.basicConfig(filename=\"/tmp/out.log\", level = logging.INFO)\n",
    "    \n",
    "    dic[\"learn_rate\"].append(learn_rate)\n",
    "    dic[\"discount\"].append(discount)\n",
    "    \n",
    "    prot   = init_prot\n",
    "    somac  = ucb(prot, learn_rate = learn_rate, discount = discount, c = 1.)\n",
    "    metric = {}\n",
    "    t      = 0\n",
    "    dt     = -1\n",
    "\n",
    "    decision = prot\n",
    "    backlog  = {}\n",
    "    \n",
    "    while t < n:\n",
    "        metric[t] = t_csma[t] if prot == 0 else t_tdma[t]\n",
    "        #print(\"Metrics = {}\".format(metric[t]))\n",
    "        #print(\"t = {}, dt = {}\".format(t, dt))\n",
    "\n",
    "        backlog[t] = prot\n",
    "\n",
    "        if dt > 1:\n",
    "            if dt == 2:\n",
    "                reward = calc_reward(metric[t], metric[t-2])\n",
    "            elif dt == 3:\n",
    "                reward = calc_reward(metric[t], metric[t-3])\n",
    "            else:\n",
    "                reward = calc_reward(metric[t], metric[t-1]) * 0.01\n",
    "                #reward = reward if reward == 0 else reward ** -dt\n",
    "\n",
    "            somac.update_qtable(reward, dt)\n",
    "\n",
    "            if dt == 2 and reward > 0:\n",
    "                decision = somac.decision(prot, keep = True)\n",
    "            elif dt == 2 and reward < 0.:\n",
    "                decision = somac.decision(prot, force_switch = True)\n",
    "            else:\n",
    "                decision = somac.decision(prot, keep = False)\n",
    "\n",
    "            if decision != prot:\n",
    "                dt = 0\n",
    "        else:\n",
    "            _ = 0\n",
    "            #print(\"MAC prot was switched recently. No switch now\")\n",
    "\n",
    "\n",
    "        t = t + 1\n",
    "        dt = dt + 1\n",
    "\n",
    "        #print(\"Protocol: {}\".format(\n",
    "        #    \"CSMA\" if prot == 0 else \"TDMA\"\n",
    "        #))\n",
    "\n",
    "        prot = decision\n",
    "\n",
    "        #print(\"Decision: {}\".format(\n",
    "        #    \"CSMA\" if prot == 0 else \"TDMA\"\n",
    "        #))\n",
    "\n",
    "        #print(\"\\n=============================\\n\")\n",
    "        \n",
    "    return backlog, metric\n",
    "        \n",
    "        \n",
    "def calc_stats(backlog, metric, dic = {}):\n",
    "    n_csma  = 0\n",
    "    n_tdma  = 0\n",
    "    n_somac = 0\n",
    "    n_changes = 0\n",
    "    \n",
    "    per_threshold = 0.9\n",
    "    dic[\"threshold\"].append(per_threshold)\n",
    "    \n",
    "    for t in range(n):\n",
    "        if t_csma[t] >= per_threshold * t_tdma[t]:\n",
    "            n_csma = n_csma + 1\n",
    "\n",
    "            if backlog[t] == 0:\n",
    "                n_somac = n_somac + 1\n",
    "\n",
    "        if t_tdma[t] >= per_threshold * t_csma[t]:\n",
    "            n_tdma = n_tdma + 1\n",
    "\n",
    "            if backlog[t] == 1:\n",
    "                n_somac = n_somac + 1\n",
    "\n",
    "    for t in range(1, n, 1):\n",
    "        if backlog[t-1] != backlog[t]:\n",
    "            n_changes = n_changes + 1\n",
    "    \n",
    "    #########################################################################\n",
    "\n",
    "    norm = np.max([\n",
    "        round(np.mean(t_csma), 2),\n",
    "        round(np.mean(t_tdma), 2),\n",
    "        round(np.mean([metric[t] for t in range(n)]), 2)\n",
    "    ])\n",
    "    \n",
    "    dic[\"csma_count\"].append(round(n_csma * 1. / n, 2))\n",
    "    dic[\"tdma_count\"].append(round(n_tdma * 1. / n, 2))\n",
    "    dic[\"hit_rate\"].append(round(n_somac * 1. / n, 2))\n",
    "    dic[\"n_switches\"].append(n_changes)\n",
    "    dic[\"n_tot\"].append(n)\n",
    "    dic[\"csma_performance\"].append(round(np.mean(t_csma), 2))\n",
    "    dic[\"tdma_performance\"].append(round(np.mean(t_tdma), 2))\n",
    "    dic[\"somac_performance\"].append(round(np.mean([metric[t] for t in range(n)]), 2))\n",
    "    dic[\"csma_per_performance\"].append(round(np.mean(t_csma) / norm, 2))\n",
    "    dic[\"tdma_per_performance\"].append(round(np.mean(t_tdma) / norm, 2))\n",
    "    dic[\"somac_per_performance\"].append(round(np.mean([metric[t] for t in range(n)]) / norm, 2))"
   ]
  },
  {
   "cell_type": "code",
   "execution_count": 62,
   "metadata": {},
   "outputs": [
    {
     "name": "stdout",
     "output_type": "stream",
     "text": [
      "file: ./_tmp/ucb/run.npy,\tstep: 0\n",
      "file: ./_tmp/ucb/run.npy,\tstep: 5\n",
      "file: ./_tmp/ucb/run3.npy,\tstep: 0\n",
      "file: ./_tmp/ucb/run3.npy,\tstep: 5\n",
      "file: ./_tmp/ucb/run4.npy,\tstep: 0\n",
      "file: ./_tmp/ucb/run4.npy,\tstep: 5\n"
     ]
    }
   ],
   "source": [
    "fname_list = [\n",
    "    \"./_tmp/ucb/run.npy\",\n",
    "    \"./_tmp/ucb/run3.npy\",\n",
    "    \"./_tmp/ucb/run4.npy\"\n",
    "]\n",
    "\n",
    "for fname, f_csma, f_tdma in (zip(fname_list, f_csma_list, f_tdma_list)):\n",
    "    \n",
    "    d_csma = np.load(f_csma, encoding = \"latin1\").item()\n",
    "    d_tdma = np.load(f_tdma, encoding = \"latin1\").item()\n",
    "\n",
    "    n = np.min([len(d_csma), len(d_tdma)]) - 10\n",
    "\n",
    "    t_csma = np.array([d_csma[t][\"metrics\"][0, 1] for t in range(n)])\n",
    "    t_tdma = np.array([d_tdma[t][\"metrics\"][0, 1] for t in range(n)])\n",
    "\n",
    "    results = {\n",
    "        \"learn_rate\":            [],\n",
    "        \"discount\":              [],\n",
    "        \"threshold\":             [],\n",
    "        \"csma_count\":            [],\n",
    "        \"tdma_count\":            [],\n",
    "        \"hit_rate\":              [],\n",
    "        \"n_switches\":            [],\n",
    "        \"n_tot\":                 [],\n",
    "        \"csma_performance\":      [],\n",
    "        \"tdma_performance\":      [],\n",
    "        \"somac_performance\":     [],\n",
    "        \"csma_per_performance\":  [],\n",
    "        \"tdma_per_performance\":  [],\n",
    "        \"somac_per_performance\": []\n",
    "    }\n",
    "\n",
    "    for step in range(10):\n",
    "\n",
    "        prot = 0 if step % 2 == 0 else 1\n",
    "        \n",
    "        if step % 5 == 0:\n",
    "            print(\"file: {},\\tstep: {}\".format(fname, step))\n",
    "\n",
    "        learn_rate_list = [i/10. for i in range(11)]\n",
    "        discount_list = [i/10. for i in range(11)]\n",
    "\n",
    "        for learn_rate in learn_rate_list:\n",
    "            for discount in discount_list:\n",
    "                backlog, metric = test(init_prot = prot, learn_rate = learn_rate, discount = discount, dic = results)\n",
    "                calc_stats(backlog, metric, dic = results)\n",
    "\n",
    "    np.save(fname, results)"
   ]
  },
  {
   "cell_type": "code",
   "execution_count": 63,
   "metadata": {},
   "outputs": [],
   "source": [
    "df = pd.DataFrame.from_dict(results)"
   ]
  },
  {
   "cell_type": "code",
   "execution_count": 64,
   "metadata": {},
   "outputs": [
    {
     "data": {
      "text/plain": [
       "<matplotlib.legend.Legend at 0x7fe11a952e48>"
      ]
     },
     "execution_count": 64,
     "metadata": {},
     "output_type": "execute_result"
    },
    {
     "data": {
      "image/png": "[encoded data removed]",
      "text/plain": [
       "<Figure size 432x288 with 1 Axes>"
      ]
     },
     "metadata": {},
     "output_type": "display_data"
    }
   ],
   "source": [
    "plt.plot(t_csma); plt.plot(t_tdma); plt.legend([\"CSMA\", \"TDMA\"])"
   ]
  },
  {
   "cell_type": "code",
   "execution_count": 65,
   "metadata": {},
   "outputs": [
    {
     "data": {
      "text/plain": [
       "[<matplotlib.lines.Line2D at 0x7fe11a83c0f0>]"
      ]
     },
     "execution_count": 65,
     "metadata": {},
     "output_type": "execute_result"
    },
    {
     "data": {
      "image/png": "[encoded data removed]",
      "text/plain": [
       "<Figure size 432x288 with 1 Axes>"
      ]
     },
     "metadata": {},
     "output_type": "display_data"
    }
   ],
   "source": [
    "x = list(backlog.keys())\n",
    "y = [backlog[t] for t in x]\n",
    "plt.plot(x, y)"
   ]
  },
  {
   "cell_type": "code",
   "execution_count": 66,
   "metadata": {},
   "outputs": [
    {
     "name": "stdout",
     "output_type": "stream",
     "text": [
      "1.0 1.0\n"
     ]
    }
   ],
   "source": [
    "print(learn_rate, discount)"
   ]
  },
  {
   "cell_type": "code",
   "execution_count": null,
   "metadata": {},
   "outputs": [],
   "source": []
  }
 ],
 "metadata": {
  "kernelspec": {
   "display_name": "Python 3",
   "language": "python",
   "name": "python3"
  },
  "language_info": {
   "codemirror_mode": {
    "name": "ipython",
    "version": 3
   },
   "file_extension": ".py",
   "mimetype": "text/x-python",
   "name": "python",
   "nbconvert_exporter": "python",
   "pygments_lexer": "ipython3",
   "version": "3.7.0"
  }
 },
 "nbformat": 4,
 "nbformat_minor": 2
}
