{
 "cells": [
  {
   "cell_type": "code",
   "execution_count": 17,
   "metadata": {},
   "outputs": [],
   "source": [
    "import sys # in order to import QLearning* modules\n",
    "sys.path.append('../..')\n",
    "\n",
    "import numpy as np\n",
    "import matplotlib.pyplot as plt\n",
    "import logging\n",
    "from QLearningBoltzmann import QLearningBoltzmann as boltz\n",
    "from QLearningEGreedy import QLearningEGreedy as egreedy\n",
    "from QLearningUCB import QLearningUCB as ucb\n",
    "import pandas as pd\n",
    "import seaborn as sns\n",
    "import scipy.stats as st\n",
    "from pathlib import Path\n",
    "\n",
    "from threading import Thread\n",
    "from threading import RLock as lock\n",
    "import time"
   ]
  },
  {
   "cell_type": "code",
   "execution_count": 18,
   "metadata": {},
   "outputs": [],
   "source": [
    "home = str(Path.home())\n",
    "\n",
    "f_csma_list = [\n",
    "    home + \"/UFMG/SOMAC-ML/data/_BKP/29092018/csma/round2/backlog_file.npy\", # RUN\n",
    "    home + \"/UFMG/SOMAC-ML/data/10102018/round1/csma/backlog_file.npy\",      # RUN3\n",
    "    home + \"/UFMG/SOMAC-ML/data/06102018/run4/5/csma/backlog_file.npy\",      # RUN4\n",
    "    home + \"/UFMG/SOMAC-ML/data/16102018/csma/csma/backlog_file.npy\",        # RUN2 (CSMA)\n",
    "    home + \"/UFMG/SOMAC-ML/data/16102018/tdma/csma/backlog_file.npy\"         # RUN2 (TDMA)\n",
    "]\n",
    "\n",
    "f_tdma_list = [\n",
    "    home + \"/UFMG/SOMAC-ML/data/_BKP/29092018/tdma/round2/backlog_file.npy\", # RUN\n",
    "    home + \"/UFMG/SOMAC-ML/data/10102018/round1/tdma/backlog_file.npy\",      # RUN3\n",
    "    home + \"/UFMG/SOMAC-ML/data/06102018/run4/5/tdma/backlog_file.npy\",      # RUN4\n",
    "    home + \"/UFMG/SOMAC-ML/data/16102018/csma/tdma/backlog_file.npy\",        # RUN2 (CSMA)\n",
    "    home + \"/UFMG/SOMAC-ML/data/16102018/tdma/tdma/backlog_file.npy\"         # RUN2 (TDMA)\n",
    "]"
   ]
  },
  {
   "cell_type": "code",
   "execution_count": 19,
   "metadata": {},
   "outputs": [],
   "source": [
    "def plot(f_csma, f_tdma, fig_name):\n",
    "    \n",
    "    dic_csma = np.load(f_csma, encoding = \"latin1\").item()\n",
    "    dic_tdma = np.load(f_tdma, encoding = \"latin1\").item()\n",
    "    \n",
    "    n = np.min([len(dic_csma), len(dic_tdma)])\n",
    "    \n",
    "    t_csma = [dic_csma[t][\"metrics\"][0, 1] for t in range(n)]\n",
    "    t_tdma = [dic_tdma[t][\"metrics\"][0, 1] for t in range(n)]\n",
    "    \n",
    "    m_size = 5\n",
    "    \n",
    "    tsteps = np.arange(n)\n",
    "    plt.plot(tsteps, t_csma, marker = \"x\", markersize = m_size)\n",
    "    plt.plot(tsteps, t_tdma, marker = \"s\", markersize = m_size)\n",
    "    \n",
    "    plt.legend([\"CSMA\", \"TDMA\"], loc = \"lower right\")\n",
    "    plt.xlabel(\"Tempo (min)\"); plt.ylabel(\"Vazão (quadros/s)\")\n",
    "    \n",
    "    plt.grid(True)\n",
    "    plt.savefig(fig_name, bbox_inches='tight')\n",
    "    plt.clf()\n",
    "    \n",
    "    return"
   ]
  },
  {
   "cell_type": "code",
   "execution_count": 20,
   "metadata": {},
   "outputs": [
    {
     "data": {
      "text/plain": [
       "<Figure size 432x288 with 0 Axes>"
      ]
     },
     "metadata": {},
     "output_type": "display_data"
    }
   ],
   "source": [
    "scenario = 0\n",
    "\n",
    "for f_csma, f_tdma in zip(f_csma_list, f_tdma_list):\n",
    "    \n",
    "    fig_name = \"../graphs/scenario_{}.pdf\".format(scenario)\n",
    "    \n",
    "    plot(f_csma, f_tdma, fig_name)\n",
    "    \n",
    "    scenario = scenario + 1"
   ]
  },
  {
   "cell_type": "code",
   "execution_count": null,
   "metadata": {},
   "outputs": [],
   "source": []
  }
 ],
 "metadata": {
  "kernelspec": {
   "display_name": "Python 3",
   "language": "python",
   "name": "python3"
  },
  "language_info": {
   "codemirror_mode": {
    "name": "ipython",
    "version": 3
   },
   "file_extension": ".py",
   "mimetype": "text/x-python",
   "name": "python",
   "nbconvert_exporter": "python",
   "pygments_lexer": "ipython3",
   "version": "3.6.6"
  }
 },
 "nbformat": 4,
 "nbformat_minor": 2
}
