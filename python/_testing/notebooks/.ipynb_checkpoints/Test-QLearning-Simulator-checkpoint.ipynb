{
 "cells": [
  {
   "cell_type": "code",
   "execution_count": 191,
   "metadata": {},
   "outputs": [],
   "source": [
    "import sys # in order to import QLearning* modules\n",
    "sys.path.append('../..')\n",
    "\n",
    "import numpy as np\n",
    "import matplotlib.pyplot as plt\n",
    "import logging\n",
    "from QLearningBoltzmann import QLearningBoltzmann as boltz\n",
    "from QLearningEGreedy import QLearningEGreedy as egreedy\n",
    "from QLearningUCB import QLearningUCB as ucb\n",
    "import pandas as pd\n",
    "import seaborn as sns\n",
    "import scipy.stats as st\n",
    "from pathlib import Path\n",
    "\n",
    "from threading import Thread\n",
    "from threading import RLock as lock\n",
    "import time"
   ]
  },
  {
   "cell_type": "code",
   "execution_count": 192,
   "metadata": {},
   "outputs": [],
   "source": [
    "home = str(Path.home())\n",
    "\n",
    "f_csma_list = [\n",
    "    home + \"/UFMG/SOMAC-ML/data/_BKP/29092018/csma/round2/backlog_file.npy\", # RUN\n",
    "    home + \"/UFMG/SOMAC-ML/data/10102018/round1/csma/backlog_file.npy\",      # RUN3\n",
    "    home + \"/UFMG/SOMAC-ML/data/06102018/run4/5/csma/backlog_file.npy\",      # RUN4\n",
    "    home + \"/UFMG/SOMAC-ML/data/16102018/csma/csma/backlog_file.npy\",        # RUN2 (CSMA)\n",
    "    home + \"/UFMG/SOMAC-ML/data/16102018/tdma/csma/backlog_file.npy\"        # RUN2 (TDMA)\n",
    "    #home + \"/UFMG/SOMAC-ML/data/04102018/run4/round2/csma/backlog_file.npy\"  # RUN4 estranho\n",
    "]\n",
    "\n",
    "f_tdma_list = [\n",
    "    home + \"/UFMG/SOMAC-ML/data/_BKP/29092018/tdma/round2/backlog_file.npy\", # RUN\n",
    "    home + \"/UFMG/SOMAC-ML/data/10102018/round1/tdma/backlog_file.npy\",      # RUN3\n",
    "    home + \"/UFMG/SOMAC-ML/data/06102018/run4/5/tdma/backlog_file.npy\",      # RUN4\n",
    "    home + \"/UFMG/SOMAC-ML/data/16102018/csma/tdma/backlog_file.npy\",        # RUN2 (CSMA)\n",
    "    home + \"/UFMG/SOMAC-ML/data/16102018/tdma/tdma/backlog_file.npy\"        # RUN2 (TDMA)\n",
    "    #home + \"/UFMG/SOMAC-ML/data/04102018/run4/round2/tdma/backlog_file.npy\"  # RUN4 estranho\n",
    "]"
   ]
  },
  {
   "cell_type": "code",
   "execution_count": 193,
   "metadata": {},
   "outputs": [],
   "source": [
    "class Simulator:\n",
    "    \n",
    "    def __init__(self, f_csma = \"\", f_tdma = \"\", somac = {}, init_prot = 0, alpha = 0.75):\n",
    "        \n",
    "        self.dic_csma = np.load(f_csma, encoding = \"latin1\").item()\n",
    "        self.dic_tdma = np.load(f_tdma, encoding = \"latin1\").item()\n",
    "        \n",
    "        n = np.min([len(self.dic_csma), len(self.dic_tdma)])\n",
    "        self.arr_csma = np.array([self.dic_csma[t][\"metrics\"][0, 1] for t in range(n)])\n",
    "        self.arr_tdma = np.array([self.dic_tdma[t][\"metrics\"][0, 1] for t in range(n)])\n",
    "        \n",
    "        self.somac = somac\n",
    "        \n",
    "        self.init_prot = init_prot\n",
    "        self.alpha = alpha\n",
    "        \n",
    "        logging.basicConfig(filename = \"/tmp/out.log\", level = logging.INFO)\n",
    "        \n",
    "        return\n",
    "    \n",
    "    def calc_reward(self, backlog, t, dt):\n",
    "        if dt == 2:\n",
    "            reward = self._reward(backlog[\"metric\"][t], backlog[\"metric\"][t-2])\n",
    "        elif dt == 3:\n",
    "            reward = self._reward(backlog[\"metric\"][t], backlog[\"metric\"][t-3])\n",
    "        else:\n",
    "            reward = self._reward(backlog[\"metric\"][t], backlog[\"metric\"][t-1])\n",
    "\n",
    "            if reward >= 0:\n",
    "                reward = 0.\n",
    "            else:\n",
    "                reward = reward\n",
    "\n",
    "        return reward\n",
    "    \n",
    "    def _reward(self, curr, prev):\n",
    "        # Positive reward\n",
    "        if 0.95 * curr < prev < 1.05 * curr or 0.95 * prev < curr < 1.05 * prev:\n",
    "            reward = 0.\n",
    "        else:\n",
    "            if curr > prev:\n",
    "                reward = curr / prev - 1. if prev > 0. else 0.\n",
    "            else:\n",
    "                reward = - (prev / curr - 1.) if curr > 0. else 0.\n",
    "        if reward > 1. or reward < -1:\n",
    "            reward = 1 if reward > 1 else -1\n",
    "\n",
    "        return reward * 5.\n",
    "    \n",
    "    def run(self):\n",
    "        \n",
    "        n = len(self.arr_csma)\n",
    "\n",
    "        prot = self.init_prot\n",
    "        decision = prot\n",
    "        backlog = {\"metric\": {}, \"prot\": {}}\n",
    "        _backlog = {\"metric\": {}, \"prot\": {}}\n",
    "        dt = -1\n",
    "        \n",
    "        for t in range(n):\n",
    "            backlog[\"metric\"][t] = self.arr_csma[t] if prot == 0 else self.arr_tdma[t]\n",
    "            backlog[\"prot\"][t] = prot\n",
    "            \n",
    "            _backlog[\"metric\"][t] = self.arr_csma[t] if prot == 0 else self.arr_tdma[t]\n",
    "            _backlog[\"prot\"][t] = prot\n",
    "            \n",
    "            if dt == 1:\n",
    "                backlog[\"metric\"][t] = (backlog[\"metric\"][t] + backlog[\"metric\"][t]) / 2.\n",
    "                _backlog[\"metric\"][t] = (_backlog[\"metric\"][t] + _backlog[\"metric\"][t])\n",
    "            \n",
    "            if t > 0:\n",
    "                _backlog[\"metric\"][t] = (\n",
    "                    (1. - self.alpha) * _backlog[\"metric\"][t - 1] + self.alpha * _backlog[\"metric\"][t]\n",
    "                )\n",
    "                \n",
    "            logging.info(\"Metric = {}, Protocol = {}\".format(backlog[\"metric\"][t], backlog[\"prot\"][t]))\n",
    "            \n",
    "            if dt > 1:\n",
    "                reward = self.calc_reward(_backlog, t, dt)\n",
    "                \n",
    "                self.somac.update_qtable(reward, dt)\n",
    "                \n",
    "                if dt == 2 and reward >= 0:\n",
    "                    decision = self.somac.decision(prot, keep = True)\n",
    "                elif dt == 2 and reward < 0:\n",
    "                    decision = self.somac.decision(prot, force_switch = True)\n",
    "                else:\n",
    "                    decision = self.somac.decision(prot)\n",
    "                    \n",
    "                if decision != prot:\n",
    "                    dt = 0\n",
    "                    \n",
    "                    logging.info(\"Protocol switch: {} => {}\".format(prot, decision))\n",
    "                    \n",
    "            dt = dt + 1\n",
    "            prot = decision\n",
    "            \n",
    "        self.backlog = backlog\n",
    "        \n",
    "        return\n",
    "    \n",
    "    def get_results(self):\n",
    "        \n",
    "        n = len(self.backlog[\"metric\"])\n",
    "        performance = np.array([self.backlog[\"metric\"][t] for t in range(n)])\n",
    "        \n",
    "        n = len(self.backlog[\"prot\"])\n",
    "        protocol = np.array([self.backlog[\"prot\"][t] for t in range(n)])\n",
    "        \n",
    "        return performance, protocol\n",
    "    \n",
    "    def get_network_scenario(self):\n",
    "        \n",
    "        return self.arr_csma, self.arr_tdma"
   ]
  },
  {
   "cell_type": "code",
   "execution_count": 194,
   "metadata": {},
   "outputs": [],
   "source": [
    "class Stats:\n",
    "    \n",
    "    def __init__(self, results, csma, tdma):\n",
    "        \n",
    "        self.csma = csma\n",
    "        self.tdma = tdma\n",
    "        self.results = results\n",
    "        \n",
    "        self._to_df()\n",
    "        \n",
    "        return\n",
    "        \n",
    "    def _to_df(self):\n",
    "        \n",
    "        n_rounds = len(self.results)\n",
    "        n_steps = len(self.results[0][\"performance\"])\n",
    "        \n",
    "        self.n_steps = n_steps\n",
    "        self.n_rounds = n_rounds\n",
    "        \n",
    "        tmp = {\"x\": [], \"y\": []}\n",
    "        for i in range(n_rounds):\n",
    "            tmp[\"x\"].extend(list(np.arange(n_steps)))\n",
    "            tmp[\"y\"].extend(list(self.results[i][\"performance\"]))\n",
    "            \n",
    "        self.df = pd.DataFrame.from_dict(tmp)\n",
    "        \n",
    "        return\n",
    "    \n",
    "    def calc_regret(self):\n",
    "        \n",
    "        arr_regret = np.zeros((self.n_rounds * self.n_steps, ))\n",
    "        \n",
    "        i = 0\n",
    "        for r in range(self.n_rounds):\n",
    "            for t in range(self.n_steps):\n",
    "                opt = self.csma[t] if self.csma[t] >= self.tdma[t] else self.tdma[t]\n",
    "                \n",
    "                regret = opt - self.results[r][\"performance\"][t]\n",
    "                \n",
    "                arr_regret[i] = regret\n",
    "                i = i + 1\n",
    "                \n",
    "        return arr_regret\n",
    "    \n",
    "    def calc_cdf(self, arr):\n",
    "        \n",
    "        n = arr.shape[0]\n",
    "        \n",
    "        prob = np.arange(n) * 1. / n\n",
    "        \n",
    "        arr_ordered = np.sort(arr)\n",
    "        \n",
    "        tmp_prob = [0.]\n",
    "        tmp_cdf = [0.]\n",
    "        for i in range(1, n, 1):\n",
    "            if arr_ordered[i-1] != arr_ordered[i]:\n",
    "                tmp_prob.append(prob[i])\n",
    "                tmp_cdf.append(arr_ordered[i])\n",
    "                \n",
    "        cdf = np.array(tmp_cdf)\n",
    "        prob = np.array(tmp_prob)\n",
    "        \n",
    "        return cdf, prob\n",
    "    \n",
    "    def avg_ci(self, ci = 95):\n",
    "        \n",
    "        n_rounds = len(self.results)\n",
    "        n_steps = len(self.results[0][\"performance\"])\n",
    "        \n",
    "        arr = np.zeros((n_rounds, ))\n",
    "        \n",
    "        for i in range(n_rounds):\n",
    "            arr[i] = np.mean(self.results[i][\"performance\"])\n",
    "        \n",
    "        avg, ci = np.mean(arr), list(st.t.interval(ci/100., len(arr)-1, loc=np.mean(arr), scale=st.sem(arr)))\n",
    "        \n",
    "        ci[0], ci[1] = round(ci[0], 2), round(ci[1], 2)\n",
    "        avg = round(avg, 2)\n",
    "        avg_csma = round(np.mean(self.csma), 2)\n",
    "        avg_tdma = round(np.mean(self.tdma), 2)\n",
    "        \n",
    "        return avg_csma, avg_tdma, avg, ci\n",
    "    \n",
    "    def plot(self, fig = 0, ci = 95, fig_name = \"\"):\n",
    "        \n",
    "        avg_csma, avg_tdma, avg_somac, ci_somac = self.avg_ci(ci = ci)\n",
    "        \n",
    "        plt.figure(fig)\n",
    "        \n",
    "        plt.plot(self.csma); plt.plot(self.tdma)\n",
    "        \n",
    "        ax = sns.lineplot(x = \"x\", y = \"y\", data = self.df, ci = ci)\n",
    "        \n",
    "        # Markers\n",
    "        m_size = 5\n",
    "        ax.lines[0].set_marker(\"x\"); ax.lines[0].set_markersize(m_size)\n",
    "        ax.lines[1].set_marker(\"s\"); ax.lines[1].set_markersize(m_size)\n",
    "        ax.lines[2].set_marker(\"o\"); ax.lines[2].set_markersize(m_size)\n",
    "        \n",
    "        plt.title(\"CSMA = {}, TDMA = {}, SOMAC = {}, CI = {}\".format(\n",
    "            avg_csma, avg_tdma, avg_somac, ci_somac\n",
    "        ))\n",
    "        plt.legend([\"CSMA\", \"TDMA\", \"SOMAC\"], loc = \"lower right\")\n",
    "        plt.grid(True)\n",
    "        \n",
    "        plt.savefig(fig_name, bbox_inches='tight')\n",
    "        plt.clf()\n",
    "        \n",
    "        return"
   ]
  },
  {
   "cell_type": "markdown",
   "metadata": {},
   "source": [
    "### Number of repetitions"
   ]
  },
  {
   "cell_type": "code",
   "execution_count": 195,
   "metadata": {},
   "outputs": [],
   "source": [
    "n_repetition = 100"
   ]
  },
  {
   "cell_type": "markdown",
   "metadata": {},
   "source": [
    "### Softmax / Boltzmann"
   ]
  },
  {
   "cell_type": "code",
   "execution_count": 196,
   "metadata": {},
   "outputs": [],
   "source": [
    "def run_softmax():\n",
    "    fig = 0\n",
    "\n",
    "    for f_csma, f_tdma in zip(f_csma_list, f_tdma_list):\n",
    "\n",
    "        results = {}\n",
    "\n",
    "        for i in range(n_repetition):\n",
    "            somac = boltz(prot = 0, learn_rate = 0.6, discount = 0.8, T = 0.5)\n",
    "\n",
    "            prot = 0 if i % 2 == 0 else 1\n",
    "            sim = Simulator(f_csma = f_csma, f_tdma = f_tdma, somac = somac, init_prot = prot, alpha = .75)\n",
    "\n",
    "            sim.run()\n",
    "            performance, protocol = sim.get_results()\n",
    "\n",
    "            results[i] = {\"performance\": performance, \"protocol\": protocol}\n",
    "\n",
    "        csma, tdma = sim.get_network_scenario()\n",
    "\n",
    "        stats = Stats(results, csma, tdma)\n",
    "        regret = stats.calc_regret()\n",
    "        cdf, prob = stats.calc_cdf(regret)\n",
    "        \n",
    "        np.save(\"../tmp/boltz_cdf_{}.npy\".format(fig), {\"cdf\": cdf, \"prob\": prob})\n",
    "        \n",
    "        with my_lock:\n",
    "            stats.plot(fig = fig, fig_name = \"../graphs/boltz_\" + str(fig) + \".pdf\")\n",
    "\n",
    "        fig = fig + 1\n",
    "        \n",
    "    return"
   ]
  },
  {
   "cell_type": "markdown",
   "metadata": {},
   "source": [
    "### E-greedy"
   ]
  },
  {
   "cell_type": "code",
   "execution_count": 197,
   "metadata": {},
   "outputs": [],
   "source": [
    "def run_egreedy():\n",
    "    fig = 0\n",
    "\n",
    "    for f_csma, f_tdma in zip(f_csma_list, f_tdma_list):\n",
    "\n",
    "        results = {}\n",
    "\n",
    "        for i in range(n_repetition):\n",
    "            somac = egreedy(prot = 0, learn_rate = 0.7, discount = 0.5, epsilon = 0.1)\n",
    "\n",
    "            prot = 0 if i % 2 == 0 else 1\n",
    "            sim = Simulator(f_csma = f_csma, f_tdma = f_tdma, somac = somac, init_prot = prot, alpha = .75)\n",
    "\n",
    "            sim.run()\n",
    "            performance, protocol = sim.get_results()\n",
    "\n",
    "            results[i] = {\"performance\": performance, \"protocol\": protocol}\n",
    "\n",
    "        csma, tdma = sim.get_network_scenario()\n",
    "\n",
    "        stats = Stats(results, csma, tdma)\n",
    "        regret = stats.calc_regret()\n",
    "        cdf, prob = stats.calc_cdf(regret)\n",
    "        \n",
    "        np.save(\"../tmp/egreedy_cdf_{}.npy\".format(fig), {\"cdf\": cdf, \"prob\": prob})\n",
    "        \n",
    "        with my_lock:\n",
    "            stats.plot(fig = fig, fig_name = \"../graphs/egreedy_\" + str(fig) + \".pdf\")\n",
    "\n",
    "        fig = fig + 1\n",
    "        \n",
    "    return"
   ]
  },
  {
   "cell_type": "markdown",
   "metadata": {},
   "source": [
    "### UCB"
   ]
  },
  {
   "cell_type": "code",
   "execution_count": 198,
   "metadata": {},
   "outputs": [],
   "source": [
    "def run_ucb():\n",
    "    fig = 0\n",
    "\n",
    "    for f_csma, f_tdma in zip(f_csma_list, f_tdma_list):\n",
    "\n",
    "        results = {}\n",
    "\n",
    "        for i in range(n_repetition):\n",
    "            somac = ucb(prot = 0, learn_rate = 0.4, discount = 0.8, c = 0.5)\n",
    "\n",
    "            prot = 0 if i % 2 == 0 else 1\n",
    "            sim = Simulator(f_csma = f_csma, f_tdma = f_tdma, somac = somac, init_prot = prot, alpha = .75)\n",
    "\n",
    "            sim.run()\n",
    "            performance, protocol = sim.get_results()\n",
    "\n",
    "            results[i] = {\"performance\": performance, \"protocol\": protocol}\n",
    "\n",
    "        csma, tdma = sim.get_network_scenario()\n",
    "\n",
    "        stats = Stats(results, csma, tdma)\n",
    "        regret = stats.calc_regret()\n",
    "        cdf, prob = stats.calc_cdf(regret)\n",
    "        \n",
    "        np.save(\"../tmp/ucb_cdf_{}.npy\".format(fig), {\"cdf\": cdf, \"prob\": prob})\n",
    "        \n",
    "        with my_lock:\n",
    "            stats.plot(fig = fig, fig_name = \"../graphs/ucb_\" + str(fig) + \".pdf\")\n",
    "\n",
    "        fig = fig + 1\n",
    "        \n",
    "    return"
   ]
  },
  {
   "cell_type": "markdown",
   "metadata": {},
   "source": [
    "### Execution"
   ]
  },
  {
   "cell_type": "code",
   "execution_count": 199,
   "metadata": {},
   "outputs": [
    {
     "name": "stderr",
     "output_type": "stream",
     "text": [
      "/home/andre/.local/lib/python3.6/site-packages/scipy/stats/stats.py:1713: FutureWarning: Using a non-tuple sequence for multidimensional indexing is deprecated; use `arr[tuple(seq)]` instead of `arr[seq]`. In the future this will be interpreted as an array index, `arr[np.array(seq)]`, which will result either in an error or a different result.\n",
      "  return np.add.reduce(sorted[indexer] * weights, axis=axis) / sumval\n"
     ]
    },
    {
     "name": "stdout",
     "output_type": "stream",
     "text": [
      "Done!\n"
     ]
    },
    {
     "data": {
      "text/plain": [
       "<Figure size 432x288 with 0 Axes>"
      ]
     },
     "metadata": {},
     "output_type": "display_data"
    },
    {
     "data": {
      "text/plain": [
       "<Figure size 432x288 with 0 Axes>"
      ]
     },
     "metadata": {},
     "output_type": "display_data"
    },
    {
     "data": {
      "text/plain": [
       "<Figure size 432x288 with 0 Axes>"
      ]
     },
     "metadata": {},
     "output_type": "display_data"
    },
    {
     "data": {
      "text/plain": [
       "<Figure size 432x288 with 0 Axes>"
      ]
     },
     "metadata": {},
     "output_type": "display_data"
    },
    {
     "data": {
      "text/plain": [
       "<Figure size 432x288 with 0 Axes>"
      ]
     },
     "metadata": {},
     "output_type": "display_data"
    }
   ],
   "source": [
    "my_lock = lock()\n",
    "\n",
    "threads = []\n",
    "\n",
    "try:\n",
    "    threads.append(Thread(target = run_softmax, args = ()))\n",
    "    threads.append(Thread(target = run_egreedy, args = ()))\n",
    "    threads.append(Thread(target = run_ucb, args = ()))\n",
    "    \n",
    "    for thread in threads:\n",
    "        thread.start()\n",
    "        \n",
    "    for thread in threads:\n",
    "        thread.join()\n",
    "    \n",
    "    print(\"Done!\")\n",
    "    \n",
    "except:\n",
    "    print(\"Unable to start threads\")"
   ]
  },
  {
   "cell_type": "markdown",
   "metadata": {},
   "source": [
    "### Plot CDFs"
   ]
  },
  {
   "cell_type": "code",
   "execution_count": 200,
   "metadata": {},
   "outputs": [
    {
     "name": "stdout",
     "output_type": "stream",
     "text": [
      "../tmp/boltz_cdf_0.npy, \n",
      "../tmp/egreedy_cdf_0.npy, \n",
      "../tmp/ucb_cdf_0.npy, \n",
      ", 5.714943289756775, 5.570689767599106, 3.3091950099915266\n"
     ]
    },
    {
     "data": {
      "image/png": "[encoded data removed]",
      "text/plain": [
       "<Figure size 432x288 with 1 Axes>"
      ]
     },
     "metadata": {},
     "output_type": "display_data"
    },
    {
     "name": "stdout",
     "output_type": "stream",
     "text": [
      "../tmp/boltz_cdf_1.npy, \n",
      "../tmp/egreedy_cdf_1.npy, \n",
      "../tmp/ucb_cdf_1.npy, \n",
      ", 6.533908449113369, 4.235057456418872, 6.533908449113369\n"
     ]
    },
    {
     "data": {
      "image/png": "[encoded data removed]",
      "text/plain": [
       "<Figure size 432x288 with 1 Axes>"
      ]
     },
     "metadata": {},
     "output_type": "display_data"
    },
    {
     "name": "stdout",
     "output_type": "stream",
     "text": [
      "../tmp/boltz_cdf_2.npy, \n",
      "../tmp/egreedy_cdf_2.npy, \n",
      "../tmp/ucb_cdf_2.npy, \n",
      ", 8.943678457289934, 6.710920423269272, 5.51954060792923\n"
     ]
    },
    {
     "data": {
      "image/png": "[encoded data removed]",
      "text/plain": [
       "<Figure size 432x288 with 1 Axes>"
      ]
     },
     "metadata": {},
     "output_type": "display_data"
    },
    {
     "name": "stdout",
     "output_type": "stream",
     "text": [
      "../tmp/boltz_cdf_3.npy, \n",
      "../tmp/egreedy_cdf_3.npy, \n",
      "../tmp/ucb_cdf_3.npy, \n",
      ", 5.766666412353516, 5.510345131158829, 4.5235636830329895\n"
     ]
    },
    {
     "data": {
      "image/png": "[encoded data removed]",
      "text/plain": [
       "<Figure size 432x288 with 1 Axes>"
      ]
     },
     "metadata": {},
     "output_type": "display_data"
    },
    {
     "name": "stdout",
     "output_type": "stream",
     "text": [
      "../tmp/boltz_cdf_4.npy, \n",
      "../tmp/egreedy_cdf_4.npy, \n",
      "../tmp/ucb_cdf_4.npy, \n",
      ", 0.8499990981072187, 0.5999993905425072, 0.8499990981072187\n"
     ]
    },
    {
     "data": {
      "image/png": "[encoded data removed]",
      "text/plain": [
       "<Figure size 432x288 with 1 Axes>"
      ]
     },
     "metadata": {},
     "output_type": "display_data"
    }
   ],
   "source": [
    "files = [\n",
    "    \"../tmp/boltz\",\n",
    "    \"../tmp/egreedy\",\n",
    "    \"../tmp/ucb\"\n",
    "]\n",
    "\n",
    "n_scenarios = 5\n",
    "\n",
    "for i in range(n_scenarios):\n",
    "    plt.figure(i)\n",
    "    \n",
    "    s = \"\"\n",
    "    \n",
    "    linestyle = [\"-\", \"-.\", \":\"]\n",
    "    for f, ls in zip(files, linestyle):\n",
    "        \n",
    "        file = f + \"_cdf_{}.npy\".format(i)\n",
    "        data = np.load(file, encoding = \"latin1\").item()\n",
    "        plt.plot(data[\"cdf\"], data[\"prob\"], linestyle = ls, linewidth = 3.)\n",
    "        \n",
    "        print(\"{}, \".format(file))\n",
    "        \n",
    "        for j in range(data[\"prob\"].shape[0]):\n",
    "            if data[\"prob\"][j] >= 0.9:\n",
    "                s = s + \", \" + str(data[\"cdf\"][j])\n",
    "                break\n",
    "    \n",
    "    print(s)\n",
    "    \n",
    "    plt.ylabel(\"CDF\"); plt.xlabel(\"$\\eta$\")\n",
    "    plt.ylim([0.5, 1])\n",
    "    plt.legend([\"Softmax\", \"e-greedy\", \"UCB\"], loc = \"lower right\")\n",
    "    plt.grid(True)\n",
    "    \n",
    "    plt.savefig(\"../cdf/scenario_{}.pdf\".format(i))\n",
    "\n",
    "    plt.show()"
   ]
  },
  {
   "cell_type": "code",
   "execution_count": null,
   "metadata": {},
   "outputs": [],
   "source": []
  }
 ],
 "metadata": {
  "kernelspec": {
   "display_name": "Python 3",
   "language": "python",
   "name": "python3"
  },
  "language_info": {
   "codemirror_mode": {
    "name": "ipython",
    "version": 3
   },
   "file_extension": ".py",
   "mimetype": "text/x-python",
   "name": "python",
   "nbconvert_exporter": "python",
   "pygments_lexer": "ipython3",
   "version": "3.6.6"
  }
 },
 "nbformat": 4,
 "nbformat_minor": 2
}
