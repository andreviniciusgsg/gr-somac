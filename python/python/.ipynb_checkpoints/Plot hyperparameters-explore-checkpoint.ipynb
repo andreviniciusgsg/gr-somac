{
 "cells": [
  {
   "cell_type": "code",
   "execution_count": 280,
   "metadata": {},
   "outputs": [],
   "source": [
    "import numpy as np\n",
    "import pandas as pd\n",
    "import seaborn as sns\n",
    "import matplotlib.pyplot as plt"
   ]
  },
  {
   "cell_type": "code",
   "execution_count": 281,
   "metadata": {},
   "outputs": [],
   "source": [
    "save_fig = True\n",
    "\n",
    "y = \"hit_rate\"\n",
    "#y = \"somac_performance\"\n",
    "#y = \"n_switches\""
   ]
  },
  {
   "cell_type": "code",
   "execution_count": 282,
   "metadata": {},
   "outputs": [],
   "source": [
    "def group_df(files, x = \"T\", y = y, group = False):\n",
    "\n",
    "    dic = {\n",
    "        \"Cenários\": [],\n",
    "        \"x\": [],\n",
    "        \"y\": []\n",
    "    }\n",
    "    \n",
    "    if group == True:\n",
    "        c = ['no 1', 'no 1', 'no 1']\n",
    "    else:\n",
    "        c = ['no 1', 'no 2', 'no 3']\n",
    "\n",
    "    for scenario, fname in (zip(c, files)):\n",
    "        tmp = np.load(fname, encoding = \"latin1\").item()\n",
    "        \n",
    "        print(\"(scenario, fname): {}, {}\".format(scenario, fname))\n",
    "        \n",
    "        for _x, _y in (zip(tmp[x], tmp[y])):\n",
    "            dic[\"Cenários\"].append(scenario)\n",
    "            dic[\"x\"].append(_x)\n",
    "            dic[\"y\"].append(_y * 100.)\n",
    "            \n",
    "    df = pd.DataFrame.from_dict(dic)\n",
    "    \n",
    "    return df\n",
    "\n",
    "def plot(df, hyperparameter = \"T\", save_fig = False, fig_name = \"none\"):\n",
    "    \n",
    "    sns.lineplot(x = \"x\", y = \"y\", hue = \"Cenários\", data = df, ci = 90)\n",
    "    \n",
    "    plt.xlabel(\"Hiperparâmetro: \" + hyperparameter)\n",
    "    plt.ylabel(\"(%)\")\n",
    "    plt.ylim([60, 85])\n",
    "    \n",
    "    plt.grid(True)\n",
    "    \n",
    "    if save_fig == True:\n",
    "        plt.savefig(fig_name, bbox_inches='tight')\n",
    "    \n",
    "    plt.show()\n",
    "    \n",
    "    return"
   ]
  },
  {
   "cell_type": "code",
   "execution_count": 283,
   "metadata": {},
   "outputs": [
    {
     "name": "stdout",
     "output_type": "stream",
     "text": [
      "(scenario, fname): no 1, ./_tmp/boltz/T/run.npy\n",
      "(scenario, fname): no 1, ./_tmp/boltz/T/run3.npy\n",
      "(scenario, fname): no 1, ./_tmp/boltz/T/run4.npy\n"
     ]
    },
    {
     "name": "stderr",
     "output_type": "stream",
     "text": [
      "/home/andre/.local/lib/python3.6/site-packages/scipy/stats/stats.py:1713: FutureWarning: Using a non-tuple sequence for multidimensional indexing is deprecated; use `arr[tuple(seq)]` instead of `arr[seq]`. In the future this will be interpreted as an array index, `arr[np.array(seq)]`, which will result either in an error or a different result.\n",
      "  return np.add.reduce(sorted[indexer] * weights, axis=axis) / sumval\n"
     ]
    },
    {
     "data": {
      "image/png": "[encoded data removed]",
      "text/plain": [
       "<Figure size 432x288 with 1 Axes>"
      ]
     },
     "metadata": {},
     "output_type": "display_data"
    }
   ],
   "source": [
    "f_name = [\n",
    "    \"./_tmp/boltz/T/run.npy\",\n",
    "    \"./_tmp/boltz/T/run3.npy\",\n",
    "    \"./_tmp/boltz/T/run4.npy\"\n",
    "]\n",
    "\n",
    "df = group_df(f_name, x = \"T\", group = True)\n",
    "\n",
    "plot(df, hyperparameter = \"T\", save_fig = save_fig, fig_name = \"./_tmp/boltz.pdf\")"
   ]
  },
  {
   "cell_type": "code",
   "execution_count": 284,
   "metadata": {},
   "outputs": [
    {
     "name": "stdout",
     "output_type": "stream",
     "text": [
      "(scenario, fname): no 1, ./_tmp/egreedy/E/run.npy\n",
      "(scenario, fname): no 1, ./_tmp/egreedy/E/run3.npy\n",
      "(scenario, fname): no 1, ./_tmp/egreedy/E/run4.npy\n"
     ]
    },
    {
     "name": "stderr",
     "output_type": "stream",
     "text": [
      "/home/andre/.local/lib/python3.6/site-packages/scipy/stats/stats.py:1713: FutureWarning: Using a non-tuple sequence for multidimensional indexing is deprecated; use `arr[tuple(seq)]` instead of `arr[seq]`. In the future this will be interpreted as an array index, `arr[np.array(seq)]`, which will result either in an error or a different result.\n",
      "  return np.add.reduce(sorted[indexer] * weights, axis=axis) / sumval\n"
     ]
    },
    {
     "data": {
      "image/png": "[encoded data removed]",
      "text/plain": [
       "<Figure size 432x288 with 1 Axes>"
      ]
     },
     "metadata": {},
     "output_type": "display_data"
    }
   ],
   "source": [
    "f_name = [\n",
    "    \"./_tmp/egreedy/E/run.npy\",\n",
    "    \"./_tmp/egreedy/E/run3.npy\",\n",
    "    \"./_tmp/egreedy/E/run4.npy\"\n",
    "]\n",
    "\n",
    "df = group_df(f_name, x = \"epsilon\", group = True)\n",
    "\n",
    "plot(df, hyperparameter = \"epsilon\", save_fig = save_fig, fig_name = \"./_tmp/egreedy.pdf\")"
   ]
  },
  {
   "cell_type": "code",
   "execution_count": 285,
   "metadata": {},
   "outputs": [
    {
     "name": "stdout",
     "output_type": "stream",
     "text": [
      "(scenario, fname): no 1, ./_tmp/ucb/c/run.npy\n",
      "(scenario, fname): no 1, ./_tmp/ucb/c/run3.npy\n",
      "(scenario, fname): no 1, ./_tmp/ucb/c/run4.npy\n"
     ]
    },
    {
     "name": "stderr",
     "output_type": "stream",
     "text": [
      "/home/andre/.local/lib/python3.6/site-packages/scipy/stats/stats.py:1713: FutureWarning: Using a non-tuple sequence for multidimensional indexing is deprecated; use `arr[tuple(seq)]` instead of `arr[seq]`. In the future this will be interpreted as an array index, `arr[np.array(seq)]`, which will result either in an error or a different result.\n",
      "  return np.add.reduce(sorted[indexer] * weights, axis=axis) / sumval\n"
     ]
    },
    {
     "data": {
      "image/png": "[encoded data removed]",
      "text/plain": [
       "<Figure size 432x288 with 1 Axes>"
      ]
     },
     "metadata": {},
     "output_type": "display_data"
    }
   ],
   "source": [
    "f_name = [\n",
    "    \"./_tmp/ucb/c/run.npy\",\n",
    "    \"./_tmp/ucb/c/run3.npy\",\n",
    "    \"./_tmp/ucb/c/run4.npy\"\n",
    "]\n",
    "\n",
    "df = group_df(f_name, x = \"c\", group = True)\n",
    "\n",
    "plot(df, hyperparameter = \"c\", save_fig = save_fig, fig_name = \"./_tmp/ucb.pdf\")"
   ]
  },
  {
   "cell_type": "code",
   "execution_count": null,
   "metadata": {},
   "outputs": [],
   "source": []
  }
 ],
 "metadata": {
  "kernelspec": {
   "display_name": "Python 3",
   "language": "python",
   "name": "python3"
  },
  "language_info": {
   "codemirror_mode": {
    "name": "ipython",
    "version": 3
   },
   "file_extension": ".py",
   "mimetype": "text/x-python",
   "name": "python",
   "nbconvert_exporter": "python",
   "pygments_lexer": "ipython3",
   "version": "3.6.5"
  }
 },
 "nbformat": 4,
 "nbformat_minor": 2
}
